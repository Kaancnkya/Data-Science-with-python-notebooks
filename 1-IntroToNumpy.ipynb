{
 "cells": [
  {
   "cell_type": "code",
   "execution_count": 1,
   "id": "acb1fcdc-55f0-4717-bf5f-b46ff647fdc5",
   "metadata": {},
   "outputs": [],
   "source": [
    "import numpy as np"
   ]
  },
  {
   "cell_type": "code",
   "execution_count": 2,
   "id": "0ab26742-1124-4b71-a002-75cbed1ee8c4",
   "metadata": {},
   "outputs": [],
   "source": [
    "my_list = [10,20,30,40]"
   ]
  },
  {
   "cell_type": "code",
   "execution_count": 3,
   "id": "416c8462-507a-488a-8c64-9cb037e6a0e4",
   "metadata": {},
   "outputs": [
    {
     "data": {
      "text/plain": [
       "list"
      ]
     },
     "execution_count": 3,
     "metadata": {},
     "output_type": "execute_result"
    }
   ],
   "source": [
    "type(my_list)"
   ]
  },
  {
   "cell_type": "code",
   "execution_count": 4,
   "id": "ecc746c4-0c07-47cf-bd69-fa96fbe94ad4",
   "metadata": {},
   "outputs": [
    {
     "data": {
      "text/plain": [
       "array([10, 20, 30, 40])"
      ]
     },
     "execution_count": 4,
     "metadata": {},
     "output_type": "execute_result"
    }
   ],
   "source": [
    "np.array(my_list)"
   ]
  },
  {
   "cell_type": "code",
   "execution_count": 5,
   "id": "8bdb1b70-8da1-42fa-90f6-2a785c5d3724",
   "metadata": {},
   "outputs": [],
   "source": [
    "my_numpy_array = np.array(my_list)"
   ]
  },
  {
   "cell_type": "code",
   "execution_count": 6,
   "id": "e88c8730-fdb5-42f6-9e4b-ff9d3aaf9446",
   "metadata": {},
   "outputs": [
    {
     "data": {
      "text/plain": [
       "numpy.ndarray"
      ]
     },
     "execution_count": 6,
     "metadata": {},
     "output_type": "execute_result"
    }
   ],
   "source": [
    "type(my_numpy_array)"
   ]
  },
  {
   "cell_type": "code",
   "execution_count": 7,
   "id": "16c08632-085c-4e83-b34d-32ec4d3eef1f",
   "metadata": {},
   "outputs": [
    {
     "data": {
      "text/plain": [
       "<function ndarray.max>"
      ]
     },
     "execution_count": 7,
     "metadata": {},
     "output_type": "execute_result"
    }
   ],
   "source": [
    "my_numpy_array.max"
   ]
  },
  {
   "cell_type": "code",
   "execution_count": 8,
   "id": "ab0fd4ac-224a-4b2b-89c1-af25280fa3e7",
   "metadata": {},
   "outputs": [
    {
     "data": {
      "text/plain": [
       "np.int64(40)"
      ]
     },
     "execution_count": 8,
     "metadata": {},
     "output_type": "execute_result"
    }
   ],
   "source": [
    "my_numpy_array.max()"
   ]
  },
  {
   "cell_type": "code",
   "execution_count": 14,
   "id": "a1c516b8-bf71-49f4-bfa3-e2f498afdc05",
   "metadata": {},
   "outputs": [],
   "source": [
    "my_list_1 = [1,2]"
   ]
  },
  {
   "cell_type": "code",
   "execution_count": 15,
   "id": "6f9cf797-160a-4b15-8b49-369089c55228",
   "metadata": {},
   "outputs": [],
   "source": [
    "my_list_2 = [3,4]"
   ]
  },
  {
   "cell_type": "code",
   "execution_count": 17,
   "id": "a788f289-9b8f-42a5-95fe-4fe6ea360f96",
   "metadata": {},
   "outputs": [
    {
     "data": {
      "text/plain": [
       "[1, 2, 3, 4]"
      ]
     },
     "execution_count": 17,
     "metadata": {},
     "output_type": "execute_result"
    }
   ],
   "source": [
    "my_list_1 + my_list_2"
   ]
  },
  {
   "cell_type": "code",
   "execution_count": 18,
   "id": "ba83a266-777d-43a5-994d-1fd6f66f40a8",
   "metadata": {},
   "outputs": [
    {
     "data": {
      "text/plain": [
       "array([4, 6])"
      ]
     },
     "execution_count": 18,
     "metadata": {},
     "output_type": "execute_result"
    }
   ],
   "source": [
    "my_numpy_array_1 = np.array(my_list_1)\n",
    "my_numpy_array_2 = np.array(my_list_2)\n",
    "my_numpy_array_1 + my_numpy_array_2"
   ]
  },
  {
   "cell_type": "code",
   "execution_count": 19,
   "id": "cf3e008b-38df-4512-8fcb-6b16f2306019",
   "metadata": {},
   "outputs": [
    {
     "data": {
      "text/plain": [
       "array([ 5, 10])"
      ]
     },
     "execution_count": 19,
     "metadata": {},
     "output_type": "execute_result"
    }
   ],
   "source": [
    "my_numpy_array_1 * 5"
   ]
  },
  {
   "cell_type": "code",
   "execution_count": 20,
   "id": "3254e6a8-659b-4514-b6b1-d1942ad19e26",
   "metadata": {},
   "outputs": [],
   "source": [
    "np_array = np.arange(0,10)"
   ]
  },
  {
   "cell_type": "code",
   "execution_count": 21,
   "id": "631da4c3-4312-46f5-9eba-8086b047e9ba",
   "metadata": {},
   "outputs": [
    {
     "data": {
      "text/plain": [
       "array([0, 1, 2, 3, 4, 5, 6, 7, 8, 9])"
      ]
     },
     "execution_count": 21,
     "metadata": {},
     "output_type": "execute_result"
    }
   ],
   "source": [
    "np_array\n"
   ]
  },
  {
   "cell_type": "code",
   "execution_count": 22,
   "id": "1dc97b85-f204-46b5-8923-7d5fce423319",
   "metadata": {},
   "outputs": [
    {
     "data": {
      "text/plain": [
       "array([[ 1.09022581, -0.48314849,  0.44317839],\n",
       "       [-2.37208126, -0.67556266,  0.93000349],\n",
       "       [ 0.91529882, -0.51477432,  1.17159249]])"
      ]
     },
     "execution_count": 22,
     "metadata": {},
     "output_type": "execute_result"
    }
   ],
   "source": [
    "np.random.randn(3,3)"
   ]
  },
  {
   "cell_type": "code",
   "execution_count": 23,
   "id": "ca4e3d0c-c28b-4cbe-970b-5033dc406b17",
   "metadata": {},
   "outputs": [
    {
     "data": {
      "text/plain": [
       "array([48, 23, 89, 48, 28])"
      ]
     },
     "execution_count": 23,
     "metadata": {},
     "output_type": "execute_result"
    }
   ],
   "source": [
    "np.random.randint(10,90,5)"
   ]
  },
  {
   "cell_type": "code",
   "execution_count": null,
   "id": "185a0283-c819-4341-8e0c-8d30def732e8",
   "metadata": {},
   "outputs": [],
   "source": []
  }
 ],
 "metadata": {
  "kernelspec": {
   "display_name": "Python [conda env:base] *",
   "language": "python",
   "name": "conda-base-py"
  },
  "language_info": {
   "codemirror_mode": {
    "name": "ipython",
    "version": 3
   },
   "file_extension": ".py",
   "mimetype": "text/x-python",
   "name": "python",
   "nbconvert_exporter": "python",
   "pygments_lexer": "ipython3",
   "version": "3.13.5"
  }
 },
 "nbformat": 4,
 "nbformat_minor": 5
}
