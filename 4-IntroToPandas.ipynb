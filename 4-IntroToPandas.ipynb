{
 "cells": [
  {
   "cell_type": "code",
   "execution_count": 1,
   "id": "0031741d-75ae-4a17-b522-b27f6a90f553",
   "metadata": {},
   "outputs": [],
   "source": [
    "import numpy as np"
   ]
  },
  {
   "cell_type": "code",
   "execution_count": 2,
   "id": "3cf11ae9-f3fb-44aa-b078-9a8c6259d7f0",
   "metadata": {},
   "outputs": [],
   "source": [
    "import pandas as pd"
   ]
  },
  {
   "cell_type": "code",
   "execution_count": 3,
   "id": "ee46c673-7ace-4ead-8993-80652830da51",
   "metadata": {},
   "outputs": [],
   "source": [
    "grades = {\"atil\": 50, \"james\": 60, \"lars\": 30}"
   ]
  },
  {
   "cell_type": "code",
   "execution_count": 4,
   "id": "92544c0f-3b1f-4607-9741-7012e26bc57d",
   "metadata": {},
   "outputs": [
    {
     "data": {
      "text/plain": [
       "atil     50\n",
       "james    60\n",
       "lars     30\n",
       "dtype: int64"
      ]
     },
     "execution_count": 4,
     "metadata": {},
     "output_type": "execute_result"
    }
   ],
   "source": [
    "pd.Series(grades)"
   ]
  },
  {
   "cell_type": "code",
   "execution_count": 5,
   "id": "fc30aca9-3c38-4096-a1bd-3a49d532d662",
   "metadata": {},
   "outputs": [],
   "source": [
    "names = [\"atil\", \"james\", \"lars\"]\n",
    "grades = [50, 60, 30]"
   ]
  },
  {
   "cell_type": "code",
   "execution_count": 6,
   "id": "05476d33-b0ab-4330-982c-8f2d95cb0caa",
   "metadata": {},
   "outputs": [
    {
     "data": {
      "text/plain": [
       "0     atil\n",
       "1    james\n",
       "2     lars\n",
       "dtype: object"
      ]
     },
     "execution_count": 6,
     "metadata": {},
     "output_type": "execute_result"
    }
   ],
   "source": [
    "pd.Series(names)"
   ]
  },
  {
   "cell_type": "code",
   "execution_count": 7,
   "id": "6158a972-9005-4500-9771-7d66dc73a98b",
   "metadata": {},
   "outputs": [
    {
     "data": {
      "text/plain": [
       "50     atil\n",
       "60    james\n",
       "30     lars\n",
       "dtype: object"
      ]
     },
     "execution_count": 7,
     "metadata": {},
     "output_type": "execute_result"
    }
   ],
   "source": [
    "pd.Series(names, grades)"
   ]
  },
  {
   "cell_type": "code",
   "execution_count": 10,
   "id": "48584620-61ac-45bb-a31c-3ac0103bcbf7",
   "metadata": {},
   "outputs": [
    {
     "data": {
      "text/plain": [
       "atil     50\n",
       "james    60\n",
       "lars     30\n",
       "dtype: int64"
      ]
     },
     "execution_count": 10,
     "metadata": {},
     "output_type": "execute_result"
    }
   ],
   "source": [
    "pd.Series(data=grades, index=names)"
   ]
  },
  {
   "cell_type": "code",
   "execution_count": null,
   "id": "19be4add-9db0-4bbc-a194-611b8aa98cee",
   "metadata": {},
   "outputs": [],
   "source": []
  }
 ],
 "metadata": {
  "kernelspec": {
   "display_name": "Python [conda env:base] *",
   "language": "python",
   "name": "conda-base-py"
  },
  "language_info": {
   "codemirror_mode": {
    "name": "ipython",
    "version": 3
   },
   "file_extension": ".py",
   "mimetype": "text/x-python",
   "name": "python",
   "nbconvert_exporter": "python",
   "pygments_lexer": "ipython3",
   "version": "3.13.5"
  }
 },
 "nbformat": 4,
 "nbformat_minor": 5
}
