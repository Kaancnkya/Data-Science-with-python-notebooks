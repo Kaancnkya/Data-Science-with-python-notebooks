{
 "cells": [
  {
   "cell_type": "code",
   "execution_count": 1,
   "id": "0cd1b827-712f-43d5-8b9d-91193faa2d0c",
   "metadata": {},
   "outputs": [],
   "source": [
    "import numpy as np"
   ]
  },
  {
   "cell_type": "code",
   "execution_count": 3,
   "id": "6e5b793a-357d-4dbd-902a-ba675248260e",
   "metadata": {},
   "outputs": [],
   "source": [
    "import pandas as pd"
   ]
  },
  {
   "cell_type": "code",
   "execution_count": 4,
   "id": "6085b9bd-c6ec-458b-92fc-27924b7fe556",
   "metadata": {},
   "outputs": [],
   "source": [
    "data = np.random.randn(4,3)"
   ]
  },
  {
   "cell_type": "code",
   "execution_count": 5,
   "id": "23a37be0-869b-4de4-91fe-41dfb0975ddf",
   "metadata": {},
   "outputs": [
    {
     "data": {
      "text/plain": [
       "array([[ 0.76300068, -0.80888172, -2.45188951],\n",
       "       [-0.52967996, -0.58599173,  0.30174256],\n",
       "       [-1.79522963, -0.23104183,  0.11742084],\n",
       "       [ 1.11674202,  0.58114223, -1.61424014]])"
      ]
     },
     "execution_count": 5,
     "metadata": {},
     "output_type": "execute_result"
    }
   ],
   "source": [
    "data"
   ]
  },
  {
   "cell_type": "code",
   "execution_count": 8,
   "id": "dd26aabc-9ee4-4606-8203-1dcdbf6a702c",
   "metadata": {},
   "outputs": [],
   "source": [
    "data_frame = pd.DataFrame(data)"
   ]
  },
  {
   "cell_type": "code",
   "execution_count": 9,
   "id": "fb2623ce-e473-4ec2-b7e1-bd4185146a85",
   "metadata": {},
   "outputs": [
    {
     "data": {
      "text/html": [
       "<div>\n",
       "<style scoped>\n",
       "    .dataframe tbody tr th:only-of-type {\n",
       "        vertical-align: middle;\n",
       "    }\n",
       "\n",
       "    .dataframe tbody tr th {\n",
       "        vertical-align: top;\n",
       "    }\n",
       "\n",
       "    .dataframe thead th {\n",
       "        text-align: right;\n",
       "    }\n",
       "</style>\n",
       "<table border=\"1\" class=\"dataframe\">\n",
       "  <thead>\n",
       "    <tr style=\"text-align: right;\">\n",
       "      <th></th>\n",
       "      <th>0</th>\n",
       "      <th>1</th>\n",
       "      <th>2</th>\n",
       "    </tr>\n",
       "  </thead>\n",
       "  <tbody>\n",
       "    <tr>\n",
       "      <th>0</th>\n",
       "      <td>0.763001</td>\n",
       "      <td>-0.808882</td>\n",
       "      <td>-2.451890</td>\n",
       "    </tr>\n",
       "    <tr>\n",
       "      <th>1</th>\n",
       "      <td>-0.529680</td>\n",
       "      <td>-0.585992</td>\n",
       "      <td>0.301743</td>\n",
       "    </tr>\n",
       "    <tr>\n",
       "      <th>2</th>\n",
       "      <td>-1.795230</td>\n",
       "      <td>-0.231042</td>\n",
       "      <td>0.117421</td>\n",
       "    </tr>\n",
       "    <tr>\n",
       "      <th>3</th>\n",
       "      <td>1.116742</td>\n",
       "      <td>0.581142</td>\n",
       "      <td>-1.614240</td>\n",
       "    </tr>\n",
       "  </tbody>\n",
       "</table>\n",
       "</div>"
      ],
      "text/plain": [
       "          0         1         2\n",
       "0  0.763001 -0.808882 -2.451890\n",
       "1 -0.529680 -0.585992  0.301743\n",
       "2 -1.795230 -0.231042  0.117421\n",
       "3  1.116742  0.581142 -1.614240"
      ]
     },
     "execution_count": 9,
     "metadata": {},
     "output_type": "execute_result"
    }
   ],
   "source": [
    "data_frame"
   ]
  },
  {
   "cell_type": "code",
   "execution_count": 12,
   "id": "96fae2b2-e0a3-4f78-b617-b3b5bf58308e",
   "metadata": {},
   "outputs": [],
   "source": [
    "new_df = pd.DataFrame(data, index = [\"atil\",\"zeynep\",\"atlas\",\"mehmet\"], columns = [\"salary\", \"age\",\"seniority\"])"
   ]
  },
  {
   "cell_type": "code",
   "execution_count": 13,
   "id": "b13321d0-0e3f-42b9-b640-1734abbb538e",
   "metadata": {},
   "outputs": [
    {
     "data": {
      "text/html": [
       "<div>\n",
       "<style scoped>\n",
       "    .dataframe tbody tr th:only-of-type {\n",
       "        vertical-align: middle;\n",
       "    }\n",
       "\n",
       "    .dataframe tbody tr th {\n",
       "        vertical-align: top;\n",
       "    }\n",
       "\n",
       "    .dataframe thead th {\n",
       "        text-align: right;\n",
       "    }\n",
       "</style>\n",
       "<table border=\"1\" class=\"dataframe\">\n",
       "  <thead>\n",
       "    <tr style=\"text-align: right;\">\n",
       "      <th></th>\n",
       "      <th>salary</th>\n",
       "      <th>age</th>\n",
       "      <th>seniority</th>\n",
       "    </tr>\n",
       "  </thead>\n",
       "  <tbody>\n",
       "    <tr>\n",
       "      <th>atil</th>\n",
       "      <td>0.763001</td>\n",
       "      <td>-0.808882</td>\n",
       "      <td>-2.451890</td>\n",
       "    </tr>\n",
       "    <tr>\n",
       "      <th>zeynep</th>\n",
       "      <td>-0.529680</td>\n",
       "      <td>-0.585992</td>\n",
       "      <td>0.301743</td>\n",
       "    </tr>\n",
       "    <tr>\n",
       "      <th>atlas</th>\n",
       "      <td>-1.795230</td>\n",
       "      <td>-0.231042</td>\n",
       "      <td>0.117421</td>\n",
       "    </tr>\n",
       "    <tr>\n",
       "      <th>mehmet</th>\n",
       "      <td>1.116742</td>\n",
       "      <td>0.581142</td>\n",
       "      <td>-1.614240</td>\n",
       "    </tr>\n",
       "  </tbody>\n",
       "</table>\n",
       "</div>"
      ],
      "text/plain": [
       "          salary       age  seniority\n",
       "atil    0.763001 -0.808882  -2.451890\n",
       "zeynep -0.529680 -0.585992   0.301743\n",
       "atlas  -1.795230 -0.231042   0.117421\n",
       "mehmet  1.116742  0.581142  -1.614240"
      ]
     },
     "execution_count": 13,
     "metadata": {},
     "output_type": "execute_result"
    }
   ],
   "source": [
    "new_df"
   ]
  },
  {
   "cell_type": "code",
   "execution_count": 14,
   "id": "b77fe0ce-e802-45e0-b874-9911cbecc8f8",
   "metadata": {},
   "outputs": [
    {
     "data": {
      "text/plain": [
       "atil      0.763001\n",
       "zeynep   -0.529680\n",
       "atlas    -1.795230\n",
       "mehmet    1.116742\n",
       "Name: salary, dtype: float64"
      ]
     },
     "execution_count": 14,
     "metadata": {},
     "output_type": "execute_result"
    }
   ],
   "source": [
    "new_df[\"salary\"]"
   ]
  },
  {
   "cell_type": "code",
   "execution_count": 15,
   "id": "849a5c96-db14-42ac-ae57-41e4ebc090bf",
   "metadata": {},
   "outputs": [
    {
     "data": {
      "text/html": [
       "<div>\n",
       "<style scoped>\n",
       "    .dataframe tbody tr th:only-of-type {\n",
       "        vertical-align: middle;\n",
       "    }\n",
       "\n",
       "    .dataframe tbody tr th {\n",
       "        vertical-align: top;\n",
       "    }\n",
       "\n",
       "    .dataframe thead th {\n",
       "        text-align: right;\n",
       "    }\n",
       "</style>\n",
       "<table border=\"1\" class=\"dataframe\">\n",
       "  <thead>\n",
       "    <tr style=\"text-align: right;\">\n",
       "      <th></th>\n",
       "      <th>salary</th>\n",
       "      <th>seniority</th>\n",
       "    </tr>\n",
       "  </thead>\n",
       "  <tbody>\n",
       "    <tr>\n",
       "      <th>atil</th>\n",
       "      <td>0.763001</td>\n",
       "      <td>-2.451890</td>\n",
       "    </tr>\n",
       "    <tr>\n",
       "      <th>zeynep</th>\n",
       "      <td>-0.529680</td>\n",
       "      <td>0.301743</td>\n",
       "    </tr>\n",
       "    <tr>\n",
       "      <th>atlas</th>\n",
       "      <td>-1.795230</td>\n",
       "      <td>0.117421</td>\n",
       "    </tr>\n",
       "    <tr>\n",
       "      <th>mehmet</th>\n",
       "      <td>1.116742</td>\n",
       "      <td>-1.614240</td>\n",
       "    </tr>\n",
       "  </tbody>\n",
       "</table>\n",
       "</div>"
      ],
      "text/plain": [
       "          salary  seniority\n",
       "atil    0.763001  -2.451890\n",
       "zeynep -0.529680   0.301743\n",
       "atlas  -1.795230   0.117421\n",
       "mehmet  1.116742  -1.614240"
      ]
     },
     "execution_count": 15,
     "metadata": {},
     "output_type": "execute_result"
    }
   ],
   "source": [
    "new_df[[\"salary\",\"seniority\"]]"
   ]
  },
  {
   "cell_type": "code",
   "execution_count": 17,
   "id": "9d53983c-7e87-4bdf-a95f-0502dc8f4d0b",
   "metadata": {},
   "outputs": [
    {
     "data": {
      "text/plain": [
       "salary       0.763001\n",
       "age         -0.808882\n",
       "seniority   -2.451890\n",
       "Name: atil, dtype: float64"
      ]
     },
     "execution_count": 17,
     "metadata": {},
     "output_type": "execute_result"
    }
   ],
   "source": [
    "new_df.loc[\"atil\"]"
   ]
  },
  {
   "cell_type": "code",
   "execution_count": 18,
   "id": "0f06d1f0-11ae-41b4-9da7-0aaff213dcaa",
   "metadata": {},
   "outputs": [
    {
     "data": {
      "text/plain": [
       "salary       0.763001\n",
       "age         -0.808882\n",
       "seniority   -2.451890\n",
       "Name: atil, dtype: float64"
      ]
     },
     "execution_count": 18,
     "metadata": {},
     "output_type": "execute_result"
    }
   ],
   "source": [
    "new_df.iloc[0]"
   ]
  },
  {
   "cell_type": "code",
   "execution_count": 19,
   "id": "95c039f8-1570-4e3e-a5f0-a6a6e48e93d0",
   "metadata": {},
   "outputs": [
    {
     "data": {
      "text/plain": [
       "atil     -0.808882\n",
       "zeynep   -0.585992\n",
       "atlas    -0.231042\n",
       "mehmet    0.581142\n",
       "Name: age, dtype: float64"
      ]
     },
     "execution_count": 19,
     "metadata": {},
     "output_type": "execute_result"
    }
   ],
   "source": [
    "new_df.iloc[:,1]"
   ]
  },
  {
   "cell_type": "code",
   "execution_count": 20,
   "id": "0abb5102-9e18-4e05-afa9-b5ca85ebc343",
   "metadata": {},
   "outputs": [],
   "source": [
    "new_df[\"Extra\"] = 10"
   ]
  },
  {
   "cell_type": "code",
   "execution_count": 21,
   "id": "37b689c6-d20d-4015-ac04-3350ffa81ac9",
   "metadata": {},
   "outputs": [
    {
     "data": {
      "text/html": [
       "<div>\n",
       "<style scoped>\n",
       "    .dataframe tbody tr th:only-of-type {\n",
       "        vertical-align: middle;\n",
       "    }\n",
       "\n",
       "    .dataframe tbody tr th {\n",
       "        vertical-align: top;\n",
       "    }\n",
       "\n",
       "    .dataframe thead th {\n",
       "        text-align: right;\n",
       "    }\n",
       "</style>\n",
       "<table border=\"1\" class=\"dataframe\">\n",
       "  <thead>\n",
       "    <tr style=\"text-align: right;\">\n",
       "      <th></th>\n",
       "      <th>salary</th>\n",
       "      <th>age</th>\n",
       "      <th>seniority</th>\n",
       "      <th>Extra</th>\n",
       "    </tr>\n",
       "  </thead>\n",
       "  <tbody>\n",
       "    <tr>\n",
       "      <th>atil</th>\n",
       "      <td>0.763001</td>\n",
       "      <td>-0.808882</td>\n",
       "      <td>-2.451890</td>\n",
       "      <td>10</td>\n",
       "    </tr>\n",
       "    <tr>\n",
       "      <th>zeynep</th>\n",
       "      <td>-0.529680</td>\n",
       "      <td>-0.585992</td>\n",
       "      <td>0.301743</td>\n",
       "      <td>10</td>\n",
       "    </tr>\n",
       "    <tr>\n",
       "      <th>atlas</th>\n",
       "      <td>-1.795230</td>\n",
       "      <td>-0.231042</td>\n",
       "      <td>0.117421</td>\n",
       "      <td>10</td>\n",
       "    </tr>\n",
       "    <tr>\n",
       "      <th>mehmet</th>\n",
       "      <td>1.116742</td>\n",
       "      <td>0.581142</td>\n",
       "      <td>-1.614240</td>\n",
       "      <td>10</td>\n",
       "    </tr>\n",
       "  </tbody>\n",
       "</table>\n",
       "</div>"
      ],
      "text/plain": [
       "          salary       age  seniority  Extra\n",
       "atil    0.763001 -0.808882  -2.451890     10\n",
       "zeynep -0.529680 -0.585992   0.301743     10\n",
       "atlas  -1.795230 -0.231042   0.117421     10\n",
       "mehmet  1.116742  0.581142  -1.614240     10"
      ]
     },
     "execution_count": 21,
     "metadata": {},
     "output_type": "execute_result"
    }
   ],
   "source": [
    "new_df"
   ]
  },
  {
   "cell_type": "code",
   "execution_count": 23,
   "id": "4f91bb0d-c1ee-4979-9154-a60ee162c619",
   "metadata": {},
   "outputs": [
    {
     "data": {
      "text/html": [
       "<div>\n",
       "<style scoped>\n",
       "    .dataframe tbody tr th:only-of-type {\n",
       "        vertical-align: middle;\n",
       "    }\n",
       "\n",
       "    .dataframe tbody tr th {\n",
       "        vertical-align: top;\n",
       "    }\n",
       "\n",
       "    .dataframe thead th {\n",
       "        text-align: right;\n",
       "    }\n",
       "</style>\n",
       "<table border=\"1\" class=\"dataframe\">\n",
       "  <thead>\n",
       "    <tr style=\"text-align: right;\">\n",
       "      <th></th>\n",
       "      <th>salary</th>\n",
       "      <th>age</th>\n",
       "      <th>seniority</th>\n",
       "    </tr>\n",
       "  </thead>\n",
       "  <tbody>\n",
       "    <tr>\n",
       "      <th>atil</th>\n",
       "      <td>0.763001</td>\n",
       "      <td>-0.808882</td>\n",
       "      <td>-2.451890</td>\n",
       "    </tr>\n",
       "    <tr>\n",
       "      <th>zeynep</th>\n",
       "      <td>-0.529680</td>\n",
       "      <td>-0.585992</td>\n",
       "      <td>0.301743</td>\n",
       "    </tr>\n",
       "    <tr>\n",
       "      <th>atlas</th>\n",
       "      <td>-1.795230</td>\n",
       "      <td>-0.231042</td>\n",
       "      <td>0.117421</td>\n",
       "    </tr>\n",
       "    <tr>\n",
       "      <th>mehmet</th>\n",
       "      <td>1.116742</td>\n",
       "      <td>0.581142</td>\n",
       "      <td>-1.614240</td>\n",
       "    </tr>\n",
       "  </tbody>\n",
       "</table>\n",
       "</div>"
      ],
      "text/plain": [
       "          salary       age  seniority\n",
       "atil    0.763001 -0.808882  -2.451890\n",
       "zeynep -0.529680 -0.585992   0.301743\n",
       "atlas  -1.795230 -0.231042   0.117421\n",
       "mehmet  1.116742  0.581142  -1.614240"
      ]
     },
     "execution_count": 23,
     "metadata": {},
     "output_type": "execute_result"
    }
   ],
   "source": [
    "new_df.drop(\"Extra\", axis=1)"
   ]
  },
  {
   "cell_type": "code",
   "execution_count": 24,
   "id": "183ee9c8-ade6-411a-a8db-7d19f31bca62",
   "metadata": {},
   "outputs": [
    {
     "data": {
      "text/html": [
       "<div>\n",
       "<style scoped>\n",
       "    .dataframe tbody tr th:only-of-type {\n",
       "        vertical-align: middle;\n",
       "    }\n",
       "\n",
       "    .dataframe tbody tr th {\n",
       "        vertical-align: top;\n",
       "    }\n",
       "\n",
       "    .dataframe thead th {\n",
       "        text-align: right;\n",
       "    }\n",
       "</style>\n",
       "<table border=\"1\" class=\"dataframe\">\n",
       "  <thead>\n",
       "    <tr style=\"text-align: right;\">\n",
       "      <th></th>\n",
       "      <th>salary</th>\n",
       "      <th>age</th>\n",
       "      <th>seniority</th>\n",
       "      <th>Extra</th>\n",
       "    </tr>\n",
       "  </thead>\n",
       "  <tbody>\n",
       "    <tr>\n",
       "      <th>atil</th>\n",
       "      <td>0.763001</td>\n",
       "      <td>-0.808882</td>\n",
       "      <td>-2.451890</td>\n",
       "      <td>10</td>\n",
       "    </tr>\n",
       "    <tr>\n",
       "      <th>zeynep</th>\n",
       "      <td>-0.529680</td>\n",
       "      <td>-0.585992</td>\n",
       "      <td>0.301743</td>\n",
       "      <td>10</td>\n",
       "    </tr>\n",
       "    <tr>\n",
       "      <th>atlas</th>\n",
       "      <td>-1.795230</td>\n",
       "      <td>-0.231042</td>\n",
       "      <td>0.117421</td>\n",
       "      <td>10</td>\n",
       "    </tr>\n",
       "    <tr>\n",
       "      <th>mehmet</th>\n",
       "      <td>1.116742</td>\n",
       "      <td>0.581142</td>\n",
       "      <td>-1.614240</td>\n",
       "      <td>10</td>\n",
       "    </tr>\n",
       "  </tbody>\n",
       "</table>\n",
       "</div>"
      ],
      "text/plain": [
       "          salary       age  seniority  Extra\n",
       "atil    0.763001 -0.808882  -2.451890     10\n",
       "zeynep -0.529680 -0.585992   0.301743     10\n",
       "atlas  -1.795230 -0.231042   0.117421     10\n",
       "mehmet  1.116742  0.581142  -1.614240     10"
      ]
     },
     "execution_count": 24,
     "metadata": {},
     "output_type": "execute_result"
    }
   ],
   "source": [
    "new_df"
   ]
  },
  {
   "cell_type": "code",
   "execution_count": 26,
   "id": "1943322c-4141-44c7-8e8a-b76889c03614",
   "metadata": {},
   "outputs": [],
   "source": [
    "new_df.drop(\"Extra\", axis=1, inplace=True)"
   ]
  },
  {
   "cell_type": "code",
   "execution_count": 27,
   "id": "fb38bd5e-f51f-496f-9e80-7c39052acd99",
   "metadata": {},
   "outputs": [
    {
     "data": {
      "text/html": [
       "<div>\n",
       "<style scoped>\n",
       "    .dataframe tbody tr th:only-of-type {\n",
       "        vertical-align: middle;\n",
       "    }\n",
       "\n",
       "    .dataframe tbody tr th {\n",
       "        vertical-align: top;\n",
       "    }\n",
       "\n",
       "    .dataframe thead th {\n",
       "        text-align: right;\n",
       "    }\n",
       "</style>\n",
       "<table border=\"1\" class=\"dataframe\">\n",
       "  <thead>\n",
       "    <tr style=\"text-align: right;\">\n",
       "      <th></th>\n",
       "      <th>salary</th>\n",
       "      <th>age</th>\n",
       "      <th>seniority</th>\n",
       "    </tr>\n",
       "  </thead>\n",
       "  <tbody>\n",
       "    <tr>\n",
       "      <th>atil</th>\n",
       "      <td>0.763001</td>\n",
       "      <td>-0.808882</td>\n",
       "      <td>-2.451890</td>\n",
       "    </tr>\n",
       "    <tr>\n",
       "      <th>zeynep</th>\n",
       "      <td>-0.529680</td>\n",
       "      <td>-0.585992</td>\n",
       "      <td>0.301743</td>\n",
       "    </tr>\n",
       "    <tr>\n",
       "      <th>atlas</th>\n",
       "      <td>-1.795230</td>\n",
       "      <td>-0.231042</td>\n",
       "      <td>0.117421</td>\n",
       "    </tr>\n",
       "    <tr>\n",
       "      <th>mehmet</th>\n",
       "      <td>1.116742</td>\n",
       "      <td>0.581142</td>\n",
       "      <td>-1.614240</td>\n",
       "    </tr>\n",
       "  </tbody>\n",
       "</table>\n",
       "</div>"
      ],
      "text/plain": [
       "          salary       age  seniority\n",
       "atil    0.763001 -0.808882  -2.451890\n",
       "zeynep -0.529680 -0.585992   0.301743\n",
       "atlas  -1.795230 -0.231042   0.117421\n",
       "mehmet  1.116742  0.581142  -1.614240"
      ]
     },
     "execution_count": 27,
     "metadata": {},
     "output_type": "execute_result"
    }
   ],
   "source": [
    "new_df"
   ]
  },
  {
   "cell_type": "code",
   "execution_count": 44,
   "id": "721e66d1-e8ed-4cdd-8ca3-e63284abf18a",
   "metadata": {},
   "outputs": [],
   "source": [
    "new_df[\"mehmet\"]=10"
   ]
  },
  {
   "cell_type": "code",
   "execution_count": 45,
   "id": "acfccf17-99e8-4040-889c-560ac264ea24",
   "metadata": {},
   "outputs": [
    {
     "data": {
      "text/html": [
       "<div>\n",
       "<style scoped>\n",
       "    .dataframe tbody tr th:only-of-type {\n",
       "        vertical-align: middle;\n",
       "    }\n",
       "\n",
       "    .dataframe tbody tr th {\n",
       "        vertical-align: top;\n",
       "    }\n",
       "\n",
       "    .dataframe thead th {\n",
       "        text-align: right;\n",
       "    }\n",
       "</style>\n",
       "<table border=\"1\" class=\"dataframe\">\n",
       "  <thead>\n",
       "    <tr style=\"text-align: right;\">\n",
       "      <th></th>\n",
       "      <th>salary</th>\n",
       "      <th>age</th>\n",
       "      <th>seniority</th>\n",
       "      <th>mehmet</th>\n",
       "    </tr>\n",
       "  </thead>\n",
       "  <tbody>\n",
       "    <tr>\n",
       "      <th>atil</th>\n",
       "      <td>0.763001</td>\n",
       "      <td>-0.808882</td>\n",
       "      <td>-2.451890</td>\n",
       "      <td>10</td>\n",
       "    </tr>\n",
       "    <tr>\n",
       "      <th>zeynep</th>\n",
       "      <td>-0.529680</td>\n",
       "      <td>-0.585992</td>\n",
       "      <td>0.301743</td>\n",
       "      <td>10</td>\n",
       "    </tr>\n",
       "    <tr>\n",
       "      <th>atlas</th>\n",
       "      <td>-1.795230</td>\n",
       "      <td>-0.231042</td>\n",
       "      <td>0.117421</td>\n",
       "      <td>10</td>\n",
       "    </tr>\n",
       "    <tr>\n",
       "      <th>mehmet</th>\n",
       "      <td>1.116742</td>\n",
       "      <td>0.581142</td>\n",
       "      <td>-1.614240</td>\n",
       "      <td>10</td>\n",
       "    </tr>\n",
       "  </tbody>\n",
       "</table>\n",
       "</div>"
      ],
      "text/plain": [
       "          salary       age  seniority  mehmet\n",
       "atil    0.763001 -0.808882  -2.451890      10\n",
       "zeynep -0.529680 -0.585992   0.301743      10\n",
       "atlas  -1.795230 -0.231042   0.117421      10\n",
       "mehmet  1.116742  0.581142  -1.614240      10"
      ]
     },
     "execution_count": 45,
     "metadata": {},
     "output_type": "execute_result"
    }
   ],
   "source": [
    "new_df"
   ]
  },
  {
   "cell_type": "code",
   "execution_count": 46,
   "id": "c1eea98b-e26f-463a-a52b-9dc25dc03a6f",
   "metadata": {},
   "outputs": [
    {
     "data": {
      "text/html": [
       "<div>\n",
       "<style scoped>\n",
       "    .dataframe tbody tr th:only-of-type {\n",
       "        vertical-align: middle;\n",
       "    }\n",
       "\n",
       "    .dataframe tbody tr th {\n",
       "        vertical-align: top;\n",
       "    }\n",
       "\n",
       "    .dataframe thead th {\n",
       "        text-align: right;\n",
       "    }\n",
       "</style>\n",
       "<table border=\"1\" class=\"dataframe\">\n",
       "  <thead>\n",
       "    <tr style=\"text-align: right;\">\n",
       "      <th></th>\n",
       "      <th>salary</th>\n",
       "      <th>age</th>\n",
       "      <th>seniority</th>\n",
       "      <th>mehmet</th>\n",
       "    </tr>\n",
       "  </thead>\n",
       "  <tbody>\n",
       "    <tr>\n",
       "      <th>atil</th>\n",
       "      <td>0.763001</td>\n",
       "      <td>-0.808882</td>\n",
       "      <td>-2.451890</td>\n",
       "      <td>10</td>\n",
       "    </tr>\n",
       "    <tr>\n",
       "      <th>zeynep</th>\n",
       "      <td>-0.529680</td>\n",
       "      <td>-0.585992</td>\n",
       "      <td>0.301743</td>\n",
       "      <td>10</td>\n",
       "    </tr>\n",
       "    <tr>\n",
       "      <th>atlas</th>\n",
       "      <td>-1.795230</td>\n",
       "      <td>-0.231042</td>\n",
       "      <td>0.117421</td>\n",
       "      <td>10</td>\n",
       "    </tr>\n",
       "  </tbody>\n",
       "</table>\n",
       "</div>"
      ],
      "text/plain": [
       "          salary       age  seniority  mehmet\n",
       "atil    0.763001 -0.808882  -2.451890      10\n",
       "zeynep -0.529680 -0.585992   0.301743      10\n",
       "atlas  -1.795230 -0.231042   0.117421      10"
      ]
     },
     "execution_count": 46,
     "metadata": {},
     "output_type": "execute_result"
    }
   ],
   "source": [
    "new_df.drop(\"mehmet\")"
   ]
  },
  {
   "cell_type": "code",
   "execution_count": 47,
   "id": "9d8beb07-71c0-4c00-97e6-79df0a633ecb",
   "metadata": {},
   "outputs": [],
   "source": [
    "new_df.drop(\"mehmet\", axis=1, inplace=True)"
   ]
  },
  {
   "cell_type": "code",
   "execution_count": 48,
   "id": "e0e9043b-794e-4c46-a01b-1179d58c722c",
   "metadata": {},
   "outputs": [
    {
     "data": {
      "text/html": [
       "<div>\n",
       "<style scoped>\n",
       "    .dataframe tbody tr th:only-of-type {\n",
       "        vertical-align: middle;\n",
       "    }\n",
       "\n",
       "    .dataframe tbody tr th {\n",
       "        vertical-align: top;\n",
       "    }\n",
       "\n",
       "    .dataframe thead th {\n",
       "        text-align: right;\n",
       "    }\n",
       "</style>\n",
       "<table border=\"1\" class=\"dataframe\">\n",
       "  <thead>\n",
       "    <tr style=\"text-align: right;\">\n",
       "      <th></th>\n",
       "      <th>salary</th>\n",
       "      <th>age</th>\n",
       "      <th>seniority</th>\n",
       "    </tr>\n",
       "  </thead>\n",
       "  <tbody>\n",
       "    <tr>\n",
       "      <th>atil</th>\n",
       "      <td>0.763001</td>\n",
       "      <td>-0.808882</td>\n",
       "      <td>-2.451890</td>\n",
       "    </tr>\n",
       "    <tr>\n",
       "      <th>zeynep</th>\n",
       "      <td>-0.529680</td>\n",
       "      <td>-0.585992</td>\n",
       "      <td>0.301743</td>\n",
       "    </tr>\n",
       "    <tr>\n",
       "      <th>atlas</th>\n",
       "      <td>-1.795230</td>\n",
       "      <td>-0.231042</td>\n",
       "      <td>0.117421</td>\n",
       "    </tr>\n",
       "    <tr>\n",
       "      <th>mehmet</th>\n",
       "      <td>1.116742</td>\n",
       "      <td>0.581142</td>\n",
       "      <td>-1.614240</td>\n",
       "    </tr>\n",
       "  </tbody>\n",
       "</table>\n",
       "</div>"
      ],
      "text/plain": [
       "          salary       age  seniority\n",
       "atil    0.763001 -0.808882  -2.451890\n",
       "zeynep -0.529680 -0.585992   0.301743\n",
       "atlas  -1.795230 -0.231042   0.117421\n",
       "mehmet  1.116742  0.581142  -1.614240"
      ]
     },
     "execution_count": 48,
     "metadata": {},
     "output_type": "execute_result"
    }
   ],
   "source": [
    "new_df"
   ]
  },
  {
   "cell_type": "code",
   "execution_count": 49,
   "id": "a7120312-f762-436f-852f-2936841fd309",
   "metadata": {},
   "outputs": [
    {
     "data": {
      "text/plain": [
       "salary      -1.795230\n",
       "age         -0.231042\n",
       "seniority    0.117421\n",
       "Name: atlas, dtype: float64"
      ]
     },
     "execution_count": 49,
     "metadata": {},
     "output_type": "execute_result"
    }
   ],
   "source": [
    "new_df.loc[\"atlas\"]"
   ]
  },
  {
   "cell_type": "code",
   "execution_count": 50,
   "id": "582ccbab-238e-4a43-bec1-7f5f5210e972",
   "metadata": {},
   "outputs": [
    {
     "data": {
      "text/plain": [
       "np.float64(-1.795229625170152)"
      ]
     },
     "execution_count": 50,
     "metadata": {},
     "output_type": "execute_result"
    }
   ],
   "source": [
    "new_df.loc[\"atlas\"][\"salary\"]"
   ]
  },
  {
   "cell_type": "code",
   "execution_count": 51,
   "id": "b2969b36-6896-424e-8f20-57fac064d257",
   "metadata": {},
   "outputs": [
    {
     "data": {
      "text/plain": [
       "np.float64(-1.795229625170152)"
      ]
     },
     "execution_count": 51,
     "metadata": {},
     "output_type": "execute_result"
    }
   ],
   "source": [
    "new_df.loc[\"atlas\" , \"salary\"]"
   ]
  },
  {
   "cell_type": "code",
   "execution_count": 53,
   "id": "3301773d-727c-4d8d-a30f-bcd89755af17",
   "metadata": {},
   "outputs": [],
   "source": [
    "new_df.loc[\"atlas\",\"salary\"] = 100"
   ]
  },
  {
   "cell_type": "code",
   "execution_count": 54,
   "id": "d06a86a8-dca7-4d57-811f-3a8303fe10ea",
   "metadata": {},
   "outputs": [
    {
     "data": {
      "text/html": [
       "<div>\n",
       "<style scoped>\n",
       "    .dataframe tbody tr th:only-of-type {\n",
       "        vertical-align: middle;\n",
       "    }\n",
       "\n",
       "    .dataframe tbody tr th {\n",
       "        vertical-align: top;\n",
       "    }\n",
       "\n",
       "    .dataframe thead th {\n",
       "        text-align: right;\n",
       "    }\n",
       "</style>\n",
       "<table border=\"1\" class=\"dataframe\">\n",
       "  <thead>\n",
       "    <tr style=\"text-align: right;\">\n",
       "      <th></th>\n",
       "      <th>salary</th>\n",
       "      <th>age</th>\n",
       "      <th>seniority</th>\n",
       "    </tr>\n",
       "  </thead>\n",
       "  <tbody>\n",
       "    <tr>\n",
       "      <th>atil</th>\n",
       "      <td>0.763001</td>\n",
       "      <td>-0.808882</td>\n",
       "      <td>-2.451890</td>\n",
       "    </tr>\n",
       "    <tr>\n",
       "      <th>zeynep</th>\n",
       "      <td>-0.529680</td>\n",
       "      <td>-0.585992</td>\n",
       "      <td>0.301743</td>\n",
       "    </tr>\n",
       "    <tr>\n",
       "      <th>atlas</th>\n",
       "      <td>100.000000</td>\n",
       "      <td>-0.231042</td>\n",
       "      <td>0.117421</td>\n",
       "    </tr>\n",
       "    <tr>\n",
       "      <th>mehmet</th>\n",
       "      <td>1.116742</td>\n",
       "      <td>0.581142</td>\n",
       "      <td>-1.614240</td>\n",
       "    </tr>\n",
       "  </tbody>\n",
       "</table>\n",
       "</div>"
      ],
      "text/plain": [
       "            salary       age  seniority\n",
       "atil      0.763001 -0.808882  -2.451890\n",
       "zeynep   -0.529680 -0.585992   0.301743\n",
       "atlas   100.000000 -0.231042   0.117421\n",
       "mehmet    1.116742  0.581142  -1.614240"
      ]
     },
     "execution_count": 54,
     "metadata": {},
     "output_type": "execute_result"
    }
   ],
   "source": [
    "new_df"
   ]
  },
  {
   "cell_type": "code",
   "execution_count": 55,
   "id": "120cdf91-a0e6-4cec-b126-1e2f4ebdab2e",
   "metadata": {},
   "outputs": [
    {
     "data": {
      "text/html": [
       "<div>\n",
       "<style scoped>\n",
       "    .dataframe tbody tr th:only-of-type {\n",
       "        vertical-align: middle;\n",
       "    }\n",
       "\n",
       "    .dataframe tbody tr th {\n",
       "        vertical-align: top;\n",
       "    }\n",
       "\n",
       "    .dataframe thead th {\n",
       "        text-align: right;\n",
       "    }\n",
       "</style>\n",
       "<table border=\"1\" class=\"dataframe\">\n",
       "  <thead>\n",
       "    <tr style=\"text-align: right;\">\n",
       "      <th></th>\n",
       "      <th>salary</th>\n",
       "      <th>age</th>\n",
       "      <th>seniority</th>\n",
       "    </tr>\n",
       "  </thead>\n",
       "  <tbody>\n",
       "    <tr>\n",
       "      <th>atil</th>\n",
       "      <td>True</td>\n",
       "      <td>False</td>\n",
       "      <td>False</td>\n",
       "    </tr>\n",
       "    <tr>\n",
       "      <th>zeynep</th>\n",
       "      <td>False</td>\n",
       "      <td>False</td>\n",
       "      <td>True</td>\n",
       "    </tr>\n",
       "    <tr>\n",
       "      <th>atlas</th>\n",
       "      <td>True</td>\n",
       "      <td>False</td>\n",
       "      <td>True</td>\n",
       "    </tr>\n",
       "    <tr>\n",
       "      <th>mehmet</th>\n",
       "      <td>True</td>\n",
       "      <td>True</td>\n",
       "      <td>False</td>\n",
       "    </tr>\n",
       "  </tbody>\n",
       "</table>\n",
       "</div>"
      ],
      "text/plain": [
       "        salary    age  seniority\n",
       "atil      True  False      False\n",
       "zeynep   False  False       True\n",
       "atlas     True  False       True\n",
       "mehmet    True   True      False"
      ]
     },
     "execution_count": 55,
     "metadata": {},
     "output_type": "execute_result"
    }
   ],
   "source": [
    "new_df > 0"
   ]
  },
  {
   "cell_type": "code",
   "execution_count": 57,
   "id": "0f848885-79b4-41e8-b4b6-b26cbaeaa4bb",
   "metadata": {},
   "outputs": [
    {
     "data": {
      "text/html": [
       "<div>\n",
       "<style scoped>\n",
       "    .dataframe tbody tr th:only-of-type {\n",
       "        vertical-align: middle;\n",
       "    }\n",
       "\n",
       "    .dataframe tbody tr th {\n",
       "        vertical-align: top;\n",
       "    }\n",
       "\n",
       "    .dataframe thead th {\n",
       "        text-align: right;\n",
       "    }\n",
       "</style>\n",
       "<table border=\"1\" class=\"dataframe\">\n",
       "  <thead>\n",
       "    <tr style=\"text-align: right;\">\n",
       "      <th></th>\n",
       "      <th>salary</th>\n",
       "      <th>age</th>\n",
       "      <th>seniority</th>\n",
       "    </tr>\n",
       "  </thead>\n",
       "  <tbody>\n",
       "    <tr>\n",
       "      <th>atil</th>\n",
       "      <td>0.763001</td>\n",
       "      <td>NaN</td>\n",
       "      <td>NaN</td>\n",
       "    </tr>\n",
       "    <tr>\n",
       "      <th>zeynep</th>\n",
       "      <td>NaN</td>\n",
       "      <td>NaN</td>\n",
       "      <td>0.301743</td>\n",
       "    </tr>\n",
       "    <tr>\n",
       "      <th>atlas</th>\n",
       "      <td>100.000000</td>\n",
       "      <td>NaN</td>\n",
       "      <td>0.117421</td>\n",
       "    </tr>\n",
       "    <tr>\n",
       "      <th>mehmet</th>\n",
       "      <td>1.116742</td>\n",
       "      <td>0.581142</td>\n",
       "      <td>NaN</td>\n",
       "    </tr>\n",
       "  </tbody>\n",
       "</table>\n",
       "</div>"
      ],
      "text/plain": [
       "            salary       age  seniority\n",
       "atil      0.763001       NaN        NaN\n",
       "zeynep         NaN       NaN   0.301743\n",
       "atlas   100.000000       NaN   0.117421\n",
       "mehmet    1.116742  0.581142        NaN"
      ]
     },
     "execution_count": 57,
     "metadata": {},
     "output_type": "execute_result"
    }
   ],
   "source": [
    "new_df[new_df>0]"
   ]
  },
  {
   "cell_type": "code",
   "execution_count": 59,
   "id": "5313ec26-f642-464a-98ad-b28d642f57fa",
   "metadata": {},
   "outputs": [
    {
     "data": {
      "text/plain": [
       "atil      False\n",
       "zeynep    False\n",
       "atlas      True\n",
       "mehmet     True\n",
       "Name: salary, dtype: bool"
      ]
     },
     "execution_count": 59,
     "metadata": {},
     "output_type": "execute_result"
    }
   ],
   "source": [
    "new_df[\"salary\"] > 1"
   ]
  },
  {
   "cell_type": "code",
   "execution_count": 60,
   "id": "8ebd90d8-b940-4d94-8902-4db5efbbda6b",
   "metadata": {},
   "outputs": [
    {
     "data": {
      "text/html": [
       "<div>\n",
       "<style scoped>\n",
       "    .dataframe tbody tr th:only-of-type {\n",
       "        vertical-align: middle;\n",
       "    }\n",
       "\n",
       "    .dataframe tbody tr th {\n",
       "        vertical-align: top;\n",
       "    }\n",
       "\n",
       "    .dataframe thead th {\n",
       "        text-align: right;\n",
       "    }\n",
       "</style>\n",
       "<table border=\"1\" class=\"dataframe\">\n",
       "  <thead>\n",
       "    <tr style=\"text-align: right;\">\n",
       "      <th></th>\n",
       "      <th>index</th>\n",
       "      <th>salary</th>\n",
       "      <th>age</th>\n",
       "      <th>seniority</th>\n",
       "    </tr>\n",
       "  </thead>\n",
       "  <tbody>\n",
       "    <tr>\n",
       "      <th>0</th>\n",
       "      <td>atil</td>\n",
       "      <td>0.763001</td>\n",
       "      <td>-0.808882</td>\n",
       "      <td>-2.451890</td>\n",
       "    </tr>\n",
       "    <tr>\n",
       "      <th>1</th>\n",
       "      <td>zeynep</td>\n",
       "      <td>-0.529680</td>\n",
       "      <td>-0.585992</td>\n",
       "      <td>0.301743</td>\n",
       "    </tr>\n",
       "    <tr>\n",
       "      <th>2</th>\n",
       "      <td>atlas</td>\n",
       "      <td>100.000000</td>\n",
       "      <td>-0.231042</td>\n",
       "      <td>0.117421</td>\n",
       "    </tr>\n",
       "    <tr>\n",
       "      <th>3</th>\n",
       "      <td>mehmet</td>\n",
       "      <td>1.116742</td>\n",
       "      <td>0.581142</td>\n",
       "      <td>-1.614240</td>\n",
       "    </tr>\n",
       "  </tbody>\n",
       "</table>\n",
       "</div>"
      ],
      "text/plain": [
       "    index      salary       age  seniority\n",
       "0    atil    0.763001 -0.808882  -2.451890\n",
       "1  zeynep   -0.529680 -0.585992   0.301743\n",
       "2   atlas  100.000000 -0.231042   0.117421\n",
       "3  mehmet    1.116742  0.581142  -1.614240"
      ]
     },
     "execution_count": 60,
     "metadata": {},
     "output_type": "execute_result"
    }
   ],
   "source": [
    "new_df.reset_index()"
   ]
  },
  {
   "cell_type": "code",
   "execution_count": 61,
   "id": "f3dd6838-449f-4bcc-a2b0-056239ca6252",
   "metadata": {},
   "outputs": [
    {
     "data": {
      "text/html": [
       "<div>\n",
       "<style scoped>\n",
       "    .dataframe tbody tr th:only-of-type {\n",
       "        vertical-align: middle;\n",
       "    }\n",
       "\n",
       "    .dataframe tbody tr th {\n",
       "        vertical-align: top;\n",
       "    }\n",
       "\n",
       "    .dataframe thead th {\n",
       "        text-align: right;\n",
       "    }\n",
       "</style>\n",
       "<table border=\"1\" class=\"dataframe\">\n",
       "  <thead>\n",
       "    <tr style=\"text-align: right;\">\n",
       "      <th></th>\n",
       "      <th>salary</th>\n",
       "      <th>age</th>\n",
       "      <th>seniority</th>\n",
       "    </tr>\n",
       "  </thead>\n",
       "  <tbody>\n",
       "    <tr>\n",
       "      <th>atil</th>\n",
       "      <td>0.763001</td>\n",
       "      <td>-0.808882</td>\n",
       "      <td>-2.451890</td>\n",
       "    </tr>\n",
       "    <tr>\n",
       "      <th>zeynep</th>\n",
       "      <td>-0.529680</td>\n",
       "      <td>-0.585992</td>\n",
       "      <td>0.301743</td>\n",
       "    </tr>\n",
       "    <tr>\n",
       "      <th>atlas</th>\n",
       "      <td>100.000000</td>\n",
       "      <td>-0.231042</td>\n",
       "      <td>0.117421</td>\n",
       "    </tr>\n",
       "    <tr>\n",
       "      <th>mehmet</th>\n",
       "      <td>1.116742</td>\n",
       "      <td>0.581142</td>\n",
       "      <td>-1.614240</td>\n",
       "    </tr>\n",
       "  </tbody>\n",
       "</table>\n",
       "</div>"
      ],
      "text/plain": [
       "            salary       age  seniority\n",
       "atil      0.763001 -0.808882  -2.451890\n",
       "zeynep   -0.529680 -0.585992   0.301743\n",
       "atlas   100.000000 -0.231042   0.117421\n",
       "mehmet    1.116742  0.581142  -1.614240"
      ]
     },
     "execution_count": 61,
     "metadata": {},
     "output_type": "execute_result"
    }
   ],
   "source": [
    "new_df"
   ]
  },
  {
   "cell_type": "code",
   "execution_count": 72,
   "id": "5f824741-499a-4558-b88c-01dddc2e7819",
   "metadata": {},
   "outputs": [],
   "source": [
    "reset_frame = new_df.reset_index()"
   ]
  },
  {
   "cell_type": "code",
   "execution_count": 73,
   "id": "7f1b3f47-7bf5-458d-9fdd-d155f06c0d4b",
   "metadata": {},
   "outputs": [
    {
     "data": {
      "text/html": [
       "<div>\n",
       "<style scoped>\n",
       "    .dataframe tbody tr th:only-of-type {\n",
       "        vertical-align: middle;\n",
       "    }\n",
       "\n",
       "    .dataframe tbody tr th {\n",
       "        vertical-align: top;\n",
       "    }\n",
       "\n",
       "    .dataframe thead th {\n",
       "        text-align: right;\n",
       "    }\n",
       "</style>\n",
       "<table border=\"1\" class=\"dataframe\">\n",
       "  <thead>\n",
       "    <tr style=\"text-align: right;\">\n",
       "      <th></th>\n",
       "      <th>index</th>\n",
       "      <th>salary</th>\n",
       "      <th>age</th>\n",
       "      <th>seniority</th>\n",
       "      <th>NewIndex</th>\n",
       "    </tr>\n",
       "  </thead>\n",
       "  <tbody>\n",
       "    <tr>\n",
       "      <th>0</th>\n",
       "      <td>atil</td>\n",
       "      <td>0.763001</td>\n",
       "      <td>-0.808882</td>\n",
       "      <td>-2.451890</td>\n",
       "      <td>ati</td>\n",
       "    </tr>\n",
       "    <tr>\n",
       "      <th>1</th>\n",
       "      <td>zeynep</td>\n",
       "      <td>-0.529680</td>\n",
       "      <td>-0.585992</td>\n",
       "      <td>0.301743</td>\n",
       "      <td>zeyno</td>\n",
       "    </tr>\n",
       "    <tr>\n",
       "      <th>2</th>\n",
       "      <td>atlas</td>\n",
       "      <td>100.000000</td>\n",
       "      <td>-0.231042</td>\n",
       "      <td>0.117421</td>\n",
       "      <td>atl</td>\n",
       "    </tr>\n",
       "    <tr>\n",
       "      <th>3</th>\n",
       "      <td>mehmet</td>\n",
       "      <td>1.116742</td>\n",
       "      <td>0.581142</td>\n",
       "      <td>-1.614240</td>\n",
       "      <td>memo</td>\n",
       "    </tr>\n",
       "  </tbody>\n",
       "</table>\n",
       "</div>"
      ],
      "text/plain": [
       "    index      salary       age  seniority NewIndex\n",
       "0    atil    0.763001 -0.808882  -2.451890      ati\n",
       "1  zeynep   -0.529680 -0.585992   0.301743    zeyno\n",
       "2   atlas  100.000000 -0.231042   0.117421      atl\n",
       "3  mehmet    1.116742  0.581142  -1.614240     memo"
      ]
     },
     "execution_count": 73,
     "metadata": {},
     "output_type": "execute_result"
    }
   ],
   "source": [
    "reset_frame"
   ]
  },
  {
   "cell_type": "code",
   "execution_count": 74,
   "id": "63774ddb-13c0-4e7d-aaeb-2707cf0a1929",
   "metadata": {},
   "outputs": [
    {
     "data": {
      "text/plain": [
       "index            atil\n",
       "salary       0.763001\n",
       "age         -0.808882\n",
       "seniority    -2.45189\n",
       "NewIndex          ati\n",
       "Name: 0, dtype: object"
      ]
     },
     "execution_count": 74,
     "metadata": {},
     "output_type": "execute_result"
    }
   ],
   "source": [
    "reset_frame.loc[0]"
   ]
  },
  {
   "cell_type": "code",
   "execution_count": 75,
   "id": "947c65fa-8a18-4f14-a43d-72000e03768c",
   "metadata": {},
   "outputs": [],
   "source": [
    "NewIndices = [\"ati\", \"zeyno\", \"atl\", \"memo\"]"
   ]
  },
  {
   "cell_type": "code",
   "execution_count": 76,
   "id": "d6ef88af-c3de-4f0b-b172-0b07be78596e",
   "metadata": {},
   "outputs": [
    {
     "data": {
      "text/html": [
       "<div>\n",
       "<style scoped>\n",
       "    .dataframe tbody tr th:only-of-type {\n",
       "        vertical-align: middle;\n",
       "    }\n",
       "\n",
       "    .dataframe tbody tr th {\n",
       "        vertical-align: top;\n",
       "    }\n",
       "\n",
       "    .dataframe thead th {\n",
       "        text-align: right;\n",
       "    }\n",
       "</style>\n",
       "<table border=\"1\" class=\"dataframe\">\n",
       "  <thead>\n",
       "    <tr style=\"text-align: right;\">\n",
       "      <th></th>\n",
       "      <th>salary</th>\n",
       "      <th>age</th>\n",
       "      <th>seniority</th>\n",
       "      <th>NewIndex</th>\n",
       "    </tr>\n",
       "  </thead>\n",
       "  <tbody>\n",
       "    <tr>\n",
       "      <th>atil</th>\n",
       "      <td>0.763001</td>\n",
       "      <td>-0.808882</td>\n",
       "      <td>-2.451890</td>\n",
       "      <td>ati</td>\n",
       "    </tr>\n",
       "    <tr>\n",
       "      <th>zeynep</th>\n",
       "      <td>-0.529680</td>\n",
       "      <td>-0.585992</td>\n",
       "      <td>0.301743</td>\n",
       "      <td>zeyno</td>\n",
       "    </tr>\n",
       "    <tr>\n",
       "      <th>atlas</th>\n",
       "      <td>100.000000</td>\n",
       "      <td>-0.231042</td>\n",
       "      <td>0.117421</td>\n",
       "      <td>atl</td>\n",
       "    </tr>\n",
       "    <tr>\n",
       "      <th>mehmet</th>\n",
       "      <td>1.116742</td>\n",
       "      <td>0.581142</td>\n",
       "      <td>-1.614240</td>\n",
       "      <td>memo</td>\n",
       "    </tr>\n",
       "  </tbody>\n",
       "</table>\n",
       "</div>"
      ],
      "text/plain": [
       "            salary       age  seniority NewIndex\n",
       "atil      0.763001 -0.808882  -2.451890      ati\n",
       "zeynep   -0.529680 -0.585992   0.301743    zeyno\n",
       "atlas   100.000000 -0.231042   0.117421      atl\n",
       "mehmet    1.116742  0.581142  -1.614240     memo"
      ]
     },
     "execution_count": 76,
     "metadata": {},
     "output_type": "execute_result"
    }
   ],
   "source": [
    "new_df[\"NewIndex\"] = NewIndices\n",
    "new_df"
   ]
  },
  {
   "cell_type": "code",
   "execution_count": 78,
   "id": "dff0250d-8934-4901-bfeb-a2ab3873abf2",
   "metadata": {},
   "outputs": [],
   "source": [
    "new_df.set_index(\"NewIndex\", inplace=True)"
   ]
  },
  {
   "cell_type": "code",
   "execution_count": 79,
   "id": "6148b513-602a-40f3-b785-c22d7a892040",
   "metadata": {},
   "outputs": [
    {
     "data": {
      "text/html": [
       "<div>\n",
       "<style scoped>\n",
       "    .dataframe tbody tr th:only-of-type {\n",
       "        vertical-align: middle;\n",
       "    }\n",
       "\n",
       "    .dataframe tbody tr th {\n",
       "        vertical-align: top;\n",
       "    }\n",
       "\n",
       "    .dataframe thead th {\n",
       "        text-align: right;\n",
       "    }\n",
       "</style>\n",
       "<table border=\"1\" class=\"dataframe\">\n",
       "  <thead>\n",
       "    <tr style=\"text-align: right;\">\n",
       "      <th></th>\n",
       "      <th>salary</th>\n",
       "      <th>age</th>\n",
       "      <th>seniority</th>\n",
       "    </tr>\n",
       "    <tr>\n",
       "      <th>NewIndex</th>\n",
       "      <th></th>\n",
       "      <th></th>\n",
       "      <th></th>\n",
       "    </tr>\n",
       "  </thead>\n",
       "  <tbody>\n",
       "    <tr>\n",
       "      <th>ati</th>\n",
       "      <td>0.763001</td>\n",
       "      <td>-0.808882</td>\n",
       "      <td>-2.451890</td>\n",
       "    </tr>\n",
       "    <tr>\n",
       "      <th>zeyno</th>\n",
       "      <td>-0.529680</td>\n",
       "      <td>-0.585992</td>\n",
       "      <td>0.301743</td>\n",
       "    </tr>\n",
       "    <tr>\n",
       "      <th>atl</th>\n",
       "      <td>100.000000</td>\n",
       "      <td>-0.231042</td>\n",
       "      <td>0.117421</td>\n",
       "    </tr>\n",
       "    <tr>\n",
       "      <th>memo</th>\n",
       "      <td>1.116742</td>\n",
       "      <td>0.581142</td>\n",
       "      <td>-1.614240</td>\n",
       "    </tr>\n",
       "  </tbody>\n",
       "</table>\n",
       "</div>"
      ],
      "text/plain": [
       "              salary       age  seniority\n",
       "NewIndex                                 \n",
       "ati         0.763001 -0.808882  -2.451890\n",
       "zeyno      -0.529680 -0.585992   0.301743\n",
       "atl       100.000000 -0.231042   0.117421\n",
       "memo        1.116742  0.581142  -1.614240"
      ]
     },
     "execution_count": 79,
     "metadata": {},
     "output_type": "execute_result"
    }
   ],
   "source": [
    "new_df"
   ]
  },
  {
   "cell_type": "code",
   "execution_count": 80,
   "id": "97bc3c58-4d1f-4881-8b44-086304ba17df",
   "metadata": {},
   "outputs": [
    {
     "data": {
      "text/plain": [
       "salary       0.763001\n",
       "age         -0.808882\n",
       "seniority   -2.451890\n",
       "Name: ati, dtype: float64"
      ]
     },
     "execution_count": 80,
     "metadata": {},
     "output_type": "execute_result"
    }
   ],
   "source": [
    "new_df.loc[\"ati\"]"
   ]
  },
  {
   "cell_type": "code",
   "execution_count": null,
   "id": "4e68f74c-938a-45b5-afc0-365ecaab4d15",
   "metadata": {},
   "outputs": [],
   "source": []
  }
 ],
 "metadata": {
  "kernelspec": {
   "display_name": "Python [conda env:base] *",
   "language": "python",
   "name": "conda-base-py"
  },
  "language_info": {
   "codemirror_mode": {
    "name": "ipython",
    "version": 3
   },
   "file_extension": ".py",
   "mimetype": "text/x-python",
   "name": "python",
   "nbconvert_exporter": "python",
   "pygments_lexer": "ipython3",
   "version": "3.13.5"
  }
 },
 "nbformat": 4,
 "nbformat_minor": 5
}
